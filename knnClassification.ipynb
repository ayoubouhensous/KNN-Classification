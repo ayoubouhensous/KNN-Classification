{
 "cells": [
  {
   "cell_type": "code",
   "execution_count": 1,
   "id": "ba1d94b2-9462-448d-9dd4-9ed809781afe",
   "metadata": {},
   "outputs": [
    {
     "name": "stdout",
     "output_type": "stream",
     "text": [
      "Le nombre optimal de voisins est 3.\n",
      "Accuracy: 0.9649\n"
     ]
    },
    {
     "data": {
      "image/png": "[encoded data removed]",
      "text/plain": [
       "<Figure size 600x400 with 2 Axes>"
      ]
     },
     "metadata": {},
     "output_type": "display_data"
    }
   ],
   "source": [
    "import numpy as np\n",
    "import pandas as pd\n",
    "import matplotlib.pyplot as plt\n",
    "import seaborn as sns\n",
    "from sklearn.datasets import load_breast_cancer\n",
    "from sklearn.model_selection import train_test_split, cross_val_score\n",
    "from sklearn.preprocessing import Normalizer, StandardScaler\n",
    "from sklearn.neighbors import KNeighborsClassifier\n",
    "from sklearn.metrics import confusion_matrix, accuracy_score\n",
    "\n",
    "# 1. Charger le dataset\n",
    "cancer_data = load_breast_cancer()\n",
    "df = pd.DataFrame(cancer_data.data, columns=cancer_data.feature_names)\n",
    "X = df.values  # Toutes les colonnes comme features\n",
    "y = cancer_data.target\n",
    "\n",
    "# 2. Diviser les données en ensembles d'entraînement et de test\n",
    "X_train, X_test, y_train, y_test = train_test_split(X, y, test_size=0.2, random_state=0)\n",
    "\n",
    "# 3. Normalisation des données\n",
    "scaler = Normalizer().fit(X_train)\n",
    "X_train_normalized = scaler.transform(X_train)\n",
    "X_test_normalized = scaler.transform(X_test)\n",
    "\n",
    "# 4. Standardisation des données\n",
    "standard_scaler = StandardScaler()\n",
    "X_train_standardized = standard_scaler.fit_transform(X_train)\n",
    "X_test_standardized = standard_scaler.transform(X_test)\n",
    "\n",
    "# 5. Recherche du meilleur k avec validation croisée\n",
    "k_list = list(range(1, 50, 2))  # Liste des valeurs de k à tester\n",
    "cv_scores = [cross_val_score(KNeighborsClassifier(n_neighbors=k, metric='manhattan'), X_train_standardized, y_train, cv=10, scoring='accuracy').mean() for k in k_list]\n",
    "\n",
    "# Calcul de l'erreur quadratique moyenne (MSE)\n",
    "MSE = [1 - score for score in cv_scores]\n",
    "\n",
    "# Détermination du meilleur k\n",
    "best_k = k_list[MSE.index(min(MSE))]\n",
    "print(f\"Le nombre optimal de voisins est {best_k}.\")\n",
    "\n",
    "# 6. Initialisation et entraînement du modèle KNN avec la meilleure valeur de k (k=best_k)\n",
    "knn = KNeighborsClassifier(n_neighbors=best_k, metric='manhattan')\n",
    "# knn = KNeighborsClassifier(n_neighbors=best_k)\n",
    "#knn = KNeighborsClassifier(n_neighbors=best_k, metric='minkowski', p=3)\n",
    "#knn= KNeighborsClassifier(n_neighbors=best_k, metric='chebyshev')\n",
    "knn.fit(X_train_standardized, y_train)\n",
    "\n",
    "# 7. Prédiction sur l'ensemble de test\n",
    "y_pred = knn.predict(X_test_standardized)\n",
    "\n",
    "# 8. Évaluation du modèle\n",
    "cm = confusion_matrix(y_test, y_pred)\n",
    "accuracy = accuracy_score(y_test, y_pred)\n",
    "print(f\"Accuracy: {accuracy:.4f}\")\n",
    "\n",
    "# 9. Affichage de la matrice de confusion\n",
    "plt.figure(figsize=(6, 4))\n",
    "sns.heatmap(cm, annot=True, fmt='d', cmap='Blues')\n",
    "plt.xlabel('Prédit')\n",
    "plt.ylabel('Réel')\n",
    "plt.title('Matrice de Confusion')\n",
    "plt.show()\n"
   ]
  }
 ],
 "metadata": {
  "kernelspec": {
   "display_name": "Python 3 (ipykernel)",
   "language": "python",
   "name": "python3"
  },
  "language_info": {
   "codemirror_mode": {
    "name": "ipython",
    "version": 3
   },
   "file_extension": ".py",
   "mimetype": "text/x-python",
   "name": "python",
   "nbconvert_exporter": "python",
   "pygments_lexer": "ipython3",
   "version": "3.12.7"
  }
 },
 "nbformat": 4,
 "nbformat_minor": 5
}
